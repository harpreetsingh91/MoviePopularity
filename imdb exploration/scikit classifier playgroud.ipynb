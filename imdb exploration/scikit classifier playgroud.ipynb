{
 "cells": [
  {
   "cell_type": "code",
   "execution_count": 24,
   "metadata": {},
   "outputs": [
    {
     "name": "stdout",
     "output_type": "stream",
     "text": [
      "The autoreload extension is already loaded. To reload it, use:\n",
      "  %reload_ext autoreload\n"
     ]
    }
   ],
   "source": [
    "import numpy as np\n",
    "import matplotlib.pyplot as plt\n",
    "\n",
    "\n",
    "from sklearn.tree import DecisionTreeClassifier\n",
    "from sklearn.svm import SVC\n",
    "from sklearn.naive_bayes import BernoulliNB\n",
    "\n",
    "from sklearn import datasets\n",
    "\n",
    "%matplotlib inline\n",
    "%load_ext autoreload \n",
    "%autoreload 2"
   ]
  },
  {
   "cell_type": "code",
   "execution_count": 18,
   "metadata": {
    "collapsed": true
   },
   "outputs": [],
   "source": [
    "# iris = datasets.load_iris()\n",
    "# X = iris.data\n",
    "# y = iris.target\n",
    "\n",
    "digits = datasets.load_digits()\n",
    "X = digits.data\n",
    "y = digits.target"
   ]
  },
  {
   "cell_type": "code",
   "execution_count": 19,
   "metadata": {
    "collapsed": true
   },
   "outputs": [],
   "source": [
    "# Import evaluation functions\n",
    "from sklearn.model_selection import train_test_split, cross_val_score\n",
    "from sklearn.metrics import confusion_matrix, precision_recall_fscore_support"
   ]
  },
  {
   "cell_type": "code",
   "execution_count": 20,
   "metadata": {
    "collapsed": true
   },
   "outputs": [],
   "source": [
    "# Initialize a few classifiers for comparison\n",
    "clfs = [DecisionTreeClassifier(), SVC(), BernoulliNB()]"
   ]
  },
  {
   "cell_type": "code",
   "execution_count": 21,
   "metadata": {},
   "outputs": [
    {
     "name": "stdout",
     "output_type": "stream",
     "text": [
      "DecisionTreeClassifier 0.833333333333\n",
      "SVC 0.402777777778\n",
      "BernoulliNB 0.858333333333\n"
     ]
    }
   ],
   "source": [
    "# Train and Score each classifier on a standard single training/test split of the data\n",
    "X_train, X_test, y_train, y_test = train_test_split(X, y, test_size=.2)\n",
    "for clf in clfs:\n",
    "    clf.fit(X_train, y_train)\n",
    "    print(type(clf).__name__, clf.score(X_test, y_test))"
   ]
  },
  {
   "cell_type": "code",
   "execution_count": 22,
   "metadata": {},
   "outputs": [
    {
     "name": "stdout",
     "output_type": "stream",
     "text": [
      "DecisionTreeClassifier [ 0.76373626  0.71546961  0.79387187  0.82633053  0.8       ] 0.779881655101\n",
      "SVC [ 0.43406593  0.40883978  0.41504178  0.48739496  0.49859155] 0.448786800616\n",
      "BernoulliNB [ 0.85989011  0.74861878  0.80222841  0.92156863  0.7915493 ] 0.82477104598\n"
     ]
    }
   ],
   "source": [
    "# Evaluate using 5-Fold Cross Evaluation\n",
    "for clf in clfs:\n",
    "    score = cross_val_score(clf, X, y, cv=5)\n",
    "    print (type(clf).__name__, score, np.average(score))"
   ]
  },
  {
   "cell_type": "code",
   "execution_count": 25,
   "metadata": {},
   "outputs": [
    {
     "name": "stdout",
     "output_type": "stream",
     "text": [
      "DecisionTreeClassifier\n",
      "[[32  0  0  0  0  0  1  0  0  0]\n",
      " [ 0 32  0  0  1  1  0  1  1  3]\n",
      " [ 1  2 32  0  0  3  1  0  1  1]\n",
      " [ 0  0  0 22  1  2  0  0  4  0]\n",
      " [ 0  0  0  0 33  1  1  2  0  1]\n",
      " [ 0  0  1  0  1 28  0  1  1  1]\n",
      " [ 0  0  0  0  1  0 31  0  0  0]\n",
      " [ 0  1  0  2  1  0  0 34  0  1]\n",
      " [ 1  3  0  1  0  1  0  0 31  2]\n",
      " [ 0  1  0  2  1  3  0  3  1 26]]\n",
      "\n",
      "SVC\n",
      "[[18  0  0 15  0  0  0  0  0  0]\n",
      " [ 0 18  0 21  0  0  0  0  0  0]\n",
      " [ 0  0  5 36  0  0  0  0  0  0]\n",
      " [ 0  0  0 29  0  0  0  0  0  0]\n",
      " [ 0  0  0 21 17  0  0  0  0  0]\n",
      " [ 0  0  0 15  0 18  0  0  0  0]\n",
      " [ 0  0  0 10  0  0 22  0  0  0]\n",
      " [ 0  0  0 29  0  0  0 10  0  0]\n",
      " [ 0  0  0 37  0  0  0  0  2  0]\n",
      " [ 0  0  0 31  0  0  0  0  0  6]]\n",
      "\n",
      "BernoulliNB\n",
      "[[33  0  0  0  0  0  0  0  0  0]\n",
      " [ 0 26  1  0  0  0  0  1  7  4]\n",
      " [ 0  2 37  1  0  0  0  0  1  0]\n",
      " [ 0  0  0 25  0  0  0  0  3  1]\n",
      " [ 0  0  0  0 35  0  0  2  1  0]\n",
      " [ 0  2  0  1  0 28  1  0  0  1]\n",
      " [ 0  0  0  0  1  0 31  0  0  0]\n",
      " [ 0  0  0  0  0  0  0 39  0  0]\n",
      " [ 0  4  1  2  0  1  0  2 28  1]\n",
      " [ 0  0  0  0  2  1  0  5  2 27]]\n",
      "\n"
     ]
    },
    {
     "data": {
      "image/png": "[encoded data removed]",
      "text/plain": [
       "<matplotlib.figure.Figure at 0x11fce73c8>"
      ]
     },
     "metadata": {},
     "output_type": "display_data"
    }
   ],
   "source": [
    "# print confusion matrices for each classifier\n",
    "plt.figure(figsize=(10,4))\n",
    "for i, clf in enumerate(clfs):\n",
    "    clf.fit(X_train, y_train)\n",
    "    y_pred = clf.predict(X_test)\n",
    "    \n",
    "    cm = confusion_matrix(y_test, y_pred)\n",
    "        \n",
    "    print (type(clf).__name__)\n",
    "    print (cm)\n",
    "    print()\n",
    "    \n",
    "    plt.subplot(1, len(clfs), i+1)\n",
    "    plt.imshow(cm, cmap=\"Blues\")"
   ]
  },
  {
   "cell_type": "code",
   "execution_count": null,
   "metadata": {
    "collapsed": true
   },
   "outputs": [],
   "source": []
  }
 ],
 "metadata": {
  "kernelspec": {
   "display_name": "Python 3",
   "language": "python",
   "name": "python3"
  },
  "language_info": {
   "codemirror_mode": {
    "name": "ipython",
    "version": 3
   },
   "file_extension": ".py",
   "mimetype": "text/x-python",
   "name": "python",
   "nbconvert_exporter": "python",
   "pygments_lexer": "ipython3",
   "version": "3.6.1"
  }
 },
 "nbformat": 4,
 "nbformat_minor": 2
}
