{
 "cells": [
  {
   "cell_type": "code",
   "execution_count": 5,
   "metadata": {
    "collapsed": true
   },
   "outputs": [],
   "source": [
    "%matplotlib inline\n",
    "import csv\n",
    "\n",
    "import numpy as np\n",
    "import matplotlib.pyplot as plt\n",
    "\n",
    "from sklearn.feature_extraction.text import CountVectorizer #Convert a collection of text documents to a matrix of token counts\n",
    "\n",
    "from sklearn.model_selection import train_test_split, cross_val_score\n",
    "\n",
    "from sklearn.naive_bayes import MultinomialNB\n",
    "\n",
    "%load_ext autoreload \n",
    "%autoreload 2\n"
   ]
  },
  {
   "cell_type": "code",
   "execution_count": 13,
   "metadata": {
    "collapsed": true
   },
   "outputs": [],
   "source": [
    "classes = [\"spam\", \"ham\"]\n",
    "\n",
    "def load_spam_data():\n",
    "\n",
    "    # Data File\n",
    "    file = \"../../labs/SENG474/data/spam.csv\"\n",
    "\n",
    "    # Lists to store all word frequencies from messages\n",
    "    # used to find top words for each class\n",
    "    content_spam = {}\n",
    "    content_ham = {}\n",
    "\n",
    "    # Lists for each message and corresponding label\n",
    "    messages = []\n",
    "    y = []\n",
    "\n",
    "    # open the file for processing as a CSV\n",
    "    with open(file, 'r', encoding='latin-1') as f:\n",
    "        reader = csv.reader(f)\n",
    "\n",
    "        for i, row in enumerate(reader):\n",
    "            if i == 0:\n",
    "                continue\n",
    "\n",
    "            # split the string and remove all non alpha characters (or ')\n",
    "            words = [''.join(c for c in word if c.isalpha() or c == \"'\") for word in row[1].lower().split()]\n",
    "\n",
    "            # Add and count words for spam and ham classes\n",
    "            content = content_spam if row[0] == \"spam\" else content_ham\n",
    "            for w in words:\n",
    "                if len(w) > 3:\n",
    "                    if w in content:\n",
    "                        content[w] += 1\n",
    "                    else:\n",
    "                        content[w] = 1\n",
    "\n",
    "            # Append full messages\n",
    "            messages.append(\" \".join(words))\n",
    "            y.append(classes.index(row[0]))\n",
    "\n",
    "    # sort each each word based on value count\n",
    "    sorted_X_spam = sorted(content_spam, key=content_spam.get, reverse=True)\n",
    "    sorted_X_ham = sorted(content_ham, key=content_ham.get, reverse=True)\n",
    "\n",
    "    # populate the bag-of-words with top 50 words from each class (and remove duplicates)\n",
    "    bow = []\n",
    "    for i in range(50):\n",
    "        if sorted_X_spam[i] not in bow:\n",
    "            bow.append(sorted_X_spam[i])\n",
    "        if sorted_X_ham[i] not in bow:\n",
    "            bow.append(sorted_X_ham[i])\n",
    "\n",
    "\n",
    "    return bow, messages, np.array(y)"
   ]
  },
  {
   "cell_type": "code",
   "execution_count": 39,
   "metadata": {},
   "outputs": [
    {
     "data": {
      "text/plain": [
       "'go until jurong point crazy available only in bugis n great world la e buffet cine there got amore wat'"
      ]
     },
     "execution_count": 39,
     "metadata": {},
     "output_type": "execute_result"
    }
   ],
   "source": [
    "bow, messages, y = load_spam_data()"
   ]
  },
  {
   "cell_type": "code",
   "execution_count": 37,
   "metadata": {},
   "outputs": [
    {
     "data": {
      "text/plain": [
       "<matplotlib.image.AxesImage at 0x116c9b630>"
      ]
     },
     "execution_count": 37,
     "metadata": {},
     "output_type": "execute_result"
    },
    {
     "data": {
      "image/png": "[encoded data removed]",
      "text/plain": [
       "<matplotlib.figure.Figure at 0x116156128>"
      ]
     },
     "metadata": {},
     "output_type": "display_data"
    }
   ],
   "source": [
    "# Convert Messages into Word Frequency Vectors\n",
    "X = CountVectorizer(vocabulary=bow).fit_transform(messages)\n",
    "plt.imshow(X[:100].toarray(), cmap=\"gray\")"
   ]
  },
  {
   "cell_type": "code",
   "execution_count": 20,
   "metadata": {},
   "outputs": [
    {
     "data": {
      "text/plain": [
       "2"
      ]
     },
     "execution_count": 20,
     "metadata": {},
     "output_type": "execute_result"
    }
   ],
   "source": [
    "# i = 9\n",
    "# print (messages[i])\n",
    "# print (X[i])\n",
    "len(X.shape)"
   ]
  },
  {
   "cell_type": "code",
   "execution_count": 27,
   "metadata": {},
   "outputs": [],
   "source": [
    "# # Naive Bayes Classifier\n",
    "# X_train, X_test, y_train, y_test = train_test_split(X, y)\n",
    "\n",
    "# clf = MultinomialNB()\n",
    "# clf.fit(X_train, y_train)\n",
    "# clf.score(X_test, y_test)"
   ]
  },
  {
   "cell_type": "code",
   "execution_count": 28,
   "metadata": {},
   "outputs": [],
   "source": [
    "# p = clf.predict(X[9])\n",
    "# print (p, y[9])\n",
    "# score = cross_val_score(clf, X, y, cv=3)\n",
    "# print (score)"
   ]
  },
  {
   "cell_type": "code",
   "execution_count": 29,
   "metadata": {},
   "outputs": [
    {
     "data": {
      "text/plain": [
       "(5572,)"
      ]
     },
     "execution_count": 29,
     "metadata": {},
     "output_type": "execute_result"
    }
   ],
   "source": [
    "np.where(y==1)\n",
    "y.shape"
   ]
  },
  {
   "cell_type": "code",
   "execution_count": 35,
   "metadata": {},
   "outputs": [
    {
     "name": "stdout",
     "output_type": "stream",
     "text": [
      "SVC 0.940807174888\n",
      "BernoulliNB 0.956053811659\n",
      "MultinomialNB 0.952466367713\n"
     ]
    }
   ],
   "source": [
    "from sklearn.svm import SVC\n",
    "from sklearn.naive_bayes import BernoulliNB\n",
    "\n",
    "clfs = [SVC(), BernoulliNB(), MultinomialNB()]\n",
    "\n",
    "X_train, X_test, y_train, y_test = train_test_split(X, y, test_size=.2)\n",
    "for clf in clfs:\n",
    "    clf.fit(X_train, y_train)\n",
    "    print(type(clf).__name__, clf.score(X_test, y_test))"
   ]
  },
  {
   "cell_type": "code",
   "execution_count": null,
   "metadata": {
    "collapsed": true
   },
   "outputs": [],
   "source": []
  },
  {
   "cell_type": "code",
   "execution_count": null,
   "metadata": {
    "collapsed": true
   },
   "outputs": [],
   "source": []
  }
 ],
 "metadata": {
  "kernelspec": {
   "display_name": "Python 3",
   "language": "python",
   "name": "python3"
  },
  "language_info": {
   "codemirror_mode": {
    "name": "ipython",
    "version": 3
   },
   "file_extension": ".py",
   "mimetype": "text/x-python",
   "name": "python",
   "nbconvert_exporter": "python",
   "pygments_lexer": "ipython3",
   "version": "3.6.1"
  }
 },
 "nbformat": 4,
 "nbformat_minor": 2
}
