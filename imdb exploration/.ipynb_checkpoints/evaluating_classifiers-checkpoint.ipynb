{
 "cells": [
  {
   "cell_type": "code",
   "execution_count": 164,
   "metadata": {},
   "outputs": [
    {
     "name": "stdout",
     "output_type": "stream",
     "text": [
      "The autoreload extension is already loaded. To reload it, use:\n",
      "  %reload_ext autoreload\n"
     ]
    }
   ],
   "source": [
    "%matplotlib inline\n",
    "import numpy as np\n",
    "import pandas as pd\n",
    "import matplotlib.pyplot as plt\n",
    "import pickle\n",
    "\n",
    "from sklearn.tree import DecisionTreeClassifier\n",
    "from sklearn.svm import SVC\n",
    "from sklearn.naive_bayes import BernoulliNB\n",
    "\n",
    "\n",
    "import seaborn as sns\n",
    "import ast \n",
    "%load_ext autoreload \n",
    "%autoreload 2"
   ]
  },
  {
   "cell_type": "code",
   "execution_count": 187,
   "metadata": {
    "collapsed": true
   },
   "outputs": [],
   "source": [
    "# Import evaluation functions\n",
    "from sklearn.model_selection import train_test_split, cross_val_score\n",
    "from sklearn.metrics import confusion_matrix, precision_recall_fscore_support"
   ]
  },
  {
   "cell_type": "code",
   "execution_count": 165,
   "metadata": {
    "collapsed": true
   },
   "outputs": [],
   "source": [
    "#read in the data\n",
    "moviesData = pd.read_csv(\"./tmdb-5000-movie-dataset/tmdb_5000_movies_new.csv\")"
   ]
  },
  {
   "cell_type": "code",
   "execution_count": 166,
   "metadata": {
    "collapsed": true
   },
   "outputs": [],
   "source": [
    "labels = moviesData['vote_average']"
   ]
  },
  {
   "cell_type": "code",
   "execution_count": 167,
   "metadata": {},
   "outputs": [
    {
     "data": {
      "image/png": "[encoded data removed]",
      "text/plain": [
       "<matplotlib.figure.Figure at 0x117603fd0>"
      ]
     },
     "metadata": {},
     "output_type": "display_data"
    }
   ],
   "source": [
    "%matplotlib inline\n",
    "import matplotlib.pyplot as plt\n",
    "font = {'fontname':'Arial', 'size':'14'}\n",
    "title_font = { 'weight' : 'bold','size':'16'}\n",
    "plt.hist(labels, bins=20)\n",
    "plt.title(\"Distribution of vote average\")\n",
    "plt.show()"
   ]
  },
  {
   "cell_type": "code",
   "execution_count": 168,
   "metadata": {},
   "outputs": [
    {
     "data": {
      "text/html": [
       "<div>\n",
       "<style>\n",
       "    .dataframe thead tr:only-child th {\n",
       "        text-align: right;\n",
       "    }\n",
       "\n",
       "    .dataframe thead th {\n",
       "        text-align: left;\n",
       "    }\n",
       "\n",
       "    .dataframe tbody tr th {\n",
       "        vertical-align: top;\n",
       "    }\n",
       "</style>\n",
       "<table border=\"1\" class=\"dataframe\">\n",
       "  <thead>\n",
       "    <tr style=\"text-align: right;\">\n",
       "      <th></th>\n",
       "      <th>budget</th>\n",
       "      <th>id</th>\n",
       "      <th>popularity</th>\n",
       "      <th>revenue</th>\n",
       "      <th>runtime</th>\n",
       "      <th>vote_average</th>\n",
       "      <th>vote_count</th>\n",
       "    </tr>\n",
       "  </thead>\n",
       "  <tbody>\n",
       "    <tr>\n",
       "      <th>0</th>\n",
       "      <td>237000000</td>\n",
       "      <td>19995</td>\n",
       "      <td>150.437577</td>\n",
       "      <td>2787965087</td>\n",
       "      <td>162.0</td>\n",
       "      <td>7.2</td>\n",
       "      <td>11800</td>\n",
       "    </tr>\n",
       "    <tr>\n",
       "      <th>1</th>\n",
       "      <td>300000000</td>\n",
       "      <td>285</td>\n",
       "      <td>139.082615</td>\n",
       "      <td>961000000</td>\n",
       "      <td>169.0</td>\n",
       "      <td>6.9</td>\n",
       "      <td>4500</td>\n",
       "    </tr>\n",
       "    <tr>\n",
       "      <th>2</th>\n",
       "      <td>245000000</td>\n",
       "      <td>206647</td>\n",
       "      <td>107.376788</td>\n",
       "      <td>880674609</td>\n",
       "      <td>148.0</td>\n",
       "      <td>6.3</td>\n",
       "      <td>4466</td>\n",
       "    </tr>\n",
       "    <tr>\n",
       "      <th>3</th>\n",
       "      <td>250000000</td>\n",
       "      <td>49026</td>\n",
       "      <td>112.312950</td>\n",
       "      <td>1084939099</td>\n",
       "      <td>165.0</td>\n",
       "      <td>7.6</td>\n",
       "      <td>9106</td>\n",
       "    </tr>\n",
       "    <tr>\n",
       "      <th>4</th>\n",
       "      <td>260000000</td>\n",
       "      <td>49529</td>\n",
       "      <td>43.926995</td>\n",
       "      <td>284139100</td>\n",
       "      <td>132.0</td>\n",
       "      <td>6.1</td>\n",
       "      <td>2124</td>\n",
       "    </tr>\n",
       "  </tbody>\n",
       "</table>\n",
       "</div>"
      ],
      "text/plain": [
       "      budget      id  popularity     revenue  runtime  vote_average  \\\n",
       "0  237000000   19995  150.437577  2787965087    162.0           7.2   \n",
       "1  300000000     285  139.082615   961000000    169.0           6.9   \n",
       "2  245000000  206647  107.376788   880674609    148.0           6.3   \n",
       "3  250000000   49026  112.312950  1084939099    165.0           7.6   \n",
       "4  260000000   49529   43.926995   284139100    132.0           6.1   \n",
       "\n",
       "   vote_count  \n",
       "0       11800  \n",
       "1        4500  \n",
       "2        4466  \n",
       "3        9106  \n",
       "4        2124  "
      ]
     },
     "execution_count": 168,
     "metadata": {},
     "output_type": "execute_result"
    }
   ],
   "source": [
    "#data filtering and cleansing\n",
    "# list for columns with strings\n",
    "stringsList = [] \n",
    "\n",
    "for colname, colvalue in moviesData.iteritems():\n",
    "    if type(colvalue[1]) == str:\n",
    "        stringsList.append(colname)\n",
    "        \n",
    "numsList = moviesData.columns.difference(stringsList)\n",
    "\n",
    "# numsList\n",
    "\n",
    "#get columns that don't contain strings\n",
    "\n",
    "moviesDataNums = moviesData[numsList]\n",
    "\n",
    "# moviesDataNums = moviesDataNums.drop('id', axis=1)\n",
    "moviesDataNums.head()"
   ]
  },
  {
   "cell_type": "code",
   "execution_count": 169,
   "metadata": {},
   "outputs": [],
   "source": [
    "#add a new dimension for director popularity\n",
    "# iterate over dataframe to get popularity values for an id. for two directors only keep the first one\n",
    "movies_credits_Data = pd.read_csv(\"./tmdb-5000-movie-dataset/tmdb_5000_credits.csv\")\n",
    "movie_to_director = {} #key:movieID, value:directorID\n",
    "\n",
    "crew = movies_credits_Data['crew']\n",
    "movieIDS = movies_credits_Data['movie_id']\n",
    "\n",
    "for index, row in crew.iteritems():\n",
    "    row = ast.literal_eval(row)\n",
    "    for credit_dict in row:\n",
    "        if credit_dict['job'] == 'Director':\n",
    "            movie_id = movieIDS[index]\n",
    "            if movie_id not in movie_to_director.keys(): #only first director included\n",
    "                movie_to_director[movie_id] = credit_dict['id']\n"
   ]
  },
  {
   "cell_type": "code",
   "execution_count": 170,
   "metadata": {},
   "outputs": [
    {
     "name": "stdout",
     "output_type": "stream",
     "text": [
      "{'name': 'James Cameron', 'popularity': 4.973699}\n"
     ]
    }
   ],
   "source": [
    "#load director_id to popularity dict that was pickled\n",
    "with open('director_info_dict_pkl','rb') as f:\n",
    "    director_dict_loaded = pickle.load(f)\n",
    "\n",
    "print(director_dict_loaded[2710])"
   ]
  },
  {
   "cell_type": "code",
   "execution_count": 171,
   "metadata": {},
   "outputs": [],
   "source": [
    "movie_series = moviesDataNums['id']\n",
    "director_id_array = []\n",
    "director_popularity_array = []\n",
    "for movie_id in movie_series:\n",
    "    if movie_id in movie_to_director.keys():\n",
    "        director_id_array.append(movie_to_director[movie_id])\n",
    "        director_popularity_array.append(director_dict_loaded[movie_to_director[movie_id]]['popularity'])\n",
    "    else:\n",
    "        director_id_array.append(0)\n",
    "        director_popularity_array.append(0)"
   ]
  },
  {
   "cell_type": "code",
   "execution_count": 172,
   "metadata": {},
   "outputs": [
    {
     "name": "stderr",
     "output_type": "stream",
     "text": [
      "/anaconda/lib/python3.6/site-packages/ipykernel_launcher.py:1: SettingWithCopyWarning: \n",
      "A value is trying to be set on a copy of a slice from a DataFrame.\n",
      "Try using .loc[row_indexer,col_indexer] = value instead\n",
      "\n",
      "See the caveats in the documentation: http://pandas.pydata.org/pandas-docs/stable/indexing.html#indexing-view-versus-copy\n",
      "  \"\"\"Entry point for launching an IPython kernel.\n"
     ]
    }
   ],
   "source": [
    "moviesDataNums['director_popularity'] = director_popularity_array"
   ]
  },
  {
   "cell_type": "code",
   "execution_count": 173,
   "metadata": {},
   "outputs": [
    {
     "name": "stdout",
     "output_type": "stream",
     "text": [
      "30\n",
      "4803\n"
     ]
    }
   ],
   "source": [
    "with_zero = 0\n",
    "for i, item in enumerate(director_id_array):\n",
    "    if item == 0:\n",
    "        with_zero += 1\n",
    "print(with_zero)\n",
    "#       this shows we have rows with no director info, so delete these rows\n",
    "print(len(moviesDataNums))"
   ]
  },
  {
   "cell_type": "code",
   "execution_count": 174,
   "metadata": {},
   "outputs": [
    {
     "name": "stdout",
     "output_type": "stream",
     "text": [
      "4803\n",
      "After dropping rows with no director popularity info\n",
      "4630\n"
     ]
    }
   ],
   "source": [
    "print(len(moviesDataNums))\n",
    "moviesDataNums = moviesDataNums[moviesDataNums.director_popularity != 0]\n",
    "print(\"After dropping rows with no director popularity info\")\n",
    "print(len(moviesDataNums))"
   ]
  },
  {
   "cell_type": "code",
   "execution_count": 175,
   "metadata": {},
   "outputs": [
    {
     "name": "stdout",
     "output_type": "stream",
     "text": [
      "4630\n",
      "      budget      id  popularity     revenue  runtime  vote_average  \\\n",
      "0  237000000   19995  150.437577  2787965087    162.0           7.2   \n",
      "1  300000000     285  139.082615   961000000    169.0           6.9   \n",
      "2  245000000  206647  107.376788   880674609    148.0           6.3   \n",
      "3  250000000   49026  112.312950  1084939099    165.0           7.6   \n",
      "4  260000000   49529   43.926995   284139100    132.0           6.1   \n",
      "\n",
      "   vote_count  director_popularity  \n",
      "0       11800             4.973699  \n",
      "1        4500             3.107182  \n",
      "2        4466             2.667000  \n",
      "3        9106             3.160919  \n",
      "4        2124             1.588633  \n"
     ]
    }
   ],
   "source": [
    "#remove NaN values\n",
    "moviesDataNums = moviesDataNums.fillna(value = 0, axis=1)\n",
    "print(len(moviesDataNums))\n",
    "print(moviesDataNums.head())"
   ]
  },
  {
   "cell_type": "code",
   "execution_count": 176,
   "metadata": {
    "collapsed": true
   },
   "outputs": [],
   "source": [
    "#standardize data using sklearn StandardScaler\n",
    "# Standardization of datasets is a common requirement for many machine learning estimators implemented in scikit-learn; they might behave badly if the individual features do not more or less look like standard normally distributed data: Gaussian with zero mean and unit variance.movieDataStdValues = StandardScaler().fit_transform(movieDataValues)\n"
   ]
  },
  {
   "cell_type": "code",
   "execution_count": 184,
   "metadata": {
    "collapsed": true
   },
   "outputs": [],
   "source": [
    "movieDataValues = moviesDataNums.values\n",
    "\n",
    "from sklearn.preprocessing import StandardScaler\n",
    "movieDataStdValues = StandardScaler().fit_transform(movieDataValues)"
   ]
  },
  {
   "cell_type": "code",
   "execution_count": 185,
   "metadata": {},
   "outputs": [
    {
     "data": {
      "text/plain": [
       "<matplotlib.axes._subplots.AxesSubplot at 0x11789ef60>"
      ]
     },
     "execution_count": 185,
     "metadata": {},
     "output_type": "execute_result"
    },
    {
     "data": {
      "image/png": "[encoded data removed]",
      "text/plain": [
       "<matplotlib.figure.Figure at 0x1178bd438>"
      ]
     },
     "metadata": {},
     "output_type": "display_data"
    }
   ],
   "source": [
    "#heatmap showing correlation of features\n",
    "\n",
    "f, ax = plt.subplots(figsize = (12,10))\n",
    "plt.title(\"Correlation of movie features\")\n",
    "sns.heatmap(moviesDataNums.astype(float).corr(), linewidths=0.25, vmax=1.0,\n",
    "           square = True, cmap=\"YlGnBu\", linecolor = \"black\", annot = True)"
   ]
  },
  {
   "cell_type": "code",
   "execution_count": 186,
   "metadata": {
    "collapsed": true
   },
   "outputs": [],
   "source": [
    "# Initialize a few classifiers for comparison\n",
    "clfs = [DecisionTreeClassifier(), SVC(), BernoulliNB()]"
   ]
  },
  {
   "cell_type": "code",
   "execution_count": 188,
   "metadata": {},
   "outputs": [
    {
     "name": "stdout",
     "output_type": "stream",
     "text": [
      "(4630, 8)\n",
      "(4630, 6)\n",
      "(4630,)\n"
     ]
    }
   ],
   "source": [
    "#ignore id i.e. index 1\n",
    "\n",
    "#use standard values\n",
    "movieDataValues = movieDataStdValues\n",
    "\n",
    "x = movieDataValues[:, [0,2,3,4,6,7]]\n",
    "y = movieDataValues[:, 5:6]\n",
    "print(movieDataValues.shape)\n",
    "print(x.shape)\n",
    "#print(y.shape)\n",
    "\n",
    "#change y's shape\n",
    "y = y.ravel()\n",
    "int_y = y.tolist()\n",
    "y1 = list(map(int,int_y))\n",
    "y1 = np.array(y1)\n",
    "print(y1.shape)"
   ]
  },
  {
   "cell_type": "code",
   "execution_count": 189,
   "metadata": {},
   "outputs": [
    {
     "name": "stderr",
     "output_type": "stream",
     "text": [
      "/anaconda/lib/python3.6/site-packages/sklearn/model_selection/_split.py:581: Warning: The least populated class in y has only 2 members, which is too few. The minimum number of groups for any class cannot be less than n_splits=20.\n",
      "  % (min_groups, self.n_splits)), Warning)\n"
     ]
    },
    {
     "name": "stdout",
     "output_type": "stream",
     "text": [
      "DecisionTreeClassifier [ 0.41949153  0.37288136  0.45064378  0.43776824  0.43347639  0.39484979\n",
      "  0.41810345  0.37931034  0.42241379  0.35775862  0.43103448  0.34051724\n",
      "  0.30172414  0.35344828  0.37662338  0.36086957  0.40611354  0.3245614\n",
      "  0.34070796  0.30088496] avg: 0.381159111321\n"
     ]
    },
    {
     "name": "stderr",
     "output_type": "stream",
     "text": [
      "/anaconda/lib/python3.6/site-packages/sklearn/model_selection/_split.py:581: Warning: The least populated class in y has only 2 members, which is too few. The minimum number of groups for any class cannot be less than n_splits=20.\n",
      "  % (min_groups, self.n_splits)), Warning)\n"
     ]
    },
    {
     "name": "stdout",
     "output_type": "stream",
     "text": [
      "SVC [ 0.41525424  0.41525424  0.42060086  0.42060086  0.42060086  0.4248927\n",
      "  0.42672414  0.42241379  0.40948276  0.43103448  0.42672414  0.41810345\n",
      "  0.44827586  0.43534483  0.44588745  0.43478261  0.41921397  0.43421053\n",
      "  0.42035398  0.42035398] avg: 0.425505486056\n",
      "BernoulliNB [ 0.41525424  0.41949153  0.4248927   0.4248927   0.4248927   0.4248927\n",
      "  0.42672414  0.42241379  0.42672414  0.42241379  0.42672414  0.42672414\n",
      "  0.42672414  0.42241379  0.42857143  0.43043478  0.43231441  0.42982456\n",
      "  0.43362832  0.42920354] avg: 0.42595778443\n"
     ]
    },
    {
     "name": "stderr",
     "output_type": "stream",
     "text": [
      "/anaconda/lib/python3.6/site-packages/sklearn/model_selection/_split.py:581: Warning: The least populated class in y has only 2 members, which is too few. The minimum number of groups for any class cannot be less than n_splits=20.\n",
      "  % (min_groups, self.n_splits)), Warning)\n"
     ]
    }
   ],
   "source": [
    "#todo: print time taken by each classifier\n",
    "X_train, X_test, y_train, y_test = train_test_split(x, y1, test_size=.2)\n",
    "k = 20\n",
    "for clf in clfs:\n",
    "#     clf.fit(X_train, y_train)\n",
    "#     print(type(clf).__name__, clf.score(X_test, y_test))\n",
    "    k_cross_scores = cross_val_score(clf, x, y1, cv=k)\n",
    "    print ((type(clf).__name__),k_cross_scores, \"avg:\",sum(k_cross_scores)/k )"
   ]
  },
  {
   "cell_type": "code",
   "execution_count": 190,
   "metadata": {},
   "outputs": [],
   "source": [
    "# print confusion matrices for each classifier\n",
    "plt.figure(figsize=(10,4))\n",
    "for i, clf in enumerate(clfs):\n",
    "    clf.fit(X_train, y_train)\n",
    "    y_pred = clf.predict(X_test)\n",
    "    \n",
    "    cm = confusion_matrix(y_test, y_pred)\n",
    "        \n",
    "    print (type(clf).__name__)\n",
    "    print (cm)\n",
    "    print()\n",
    "    \n",
    "    plt.subplot(1, len(clfs), i+1)\n",
    "    plt.imshow(cm, cmap=\"Blues\")"
   ]
  },
  {
   "cell_type": "code",
   "execution_count": null,
   "metadata": {
    "collapsed": true
   },
   "outputs": [],
   "source": [
    "#now create new dataset with budget, runtime, director and cast popularity avg.\n",
    "# Feature to consider: a sentiment analysis of genre and Overview\n"
   ]
  }
 ],
 "metadata": {
  "kernelspec": {
   "display_name": "Python 3",
   "language": "python",
   "name": "python3"
  },
  "language_info": {
   "codemirror_mode": {
    "name": "ipython",
    "version": 3
   },
   "file_extension": ".py",
   "mimetype": "text/x-python",
   "name": "python",
   "nbconvert_exporter": "python",
   "pygments_lexer": "ipython3",
   "version": "3.6.1"
  }
 },
 "nbformat": 4,
 "nbformat_minor": 2
}
