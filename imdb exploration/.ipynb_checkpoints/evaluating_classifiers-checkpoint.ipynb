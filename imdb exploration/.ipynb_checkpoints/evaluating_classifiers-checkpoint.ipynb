{
 "cells": [
  {
   "cell_type": "code",
   "execution_count": 2,
   "metadata": {},
   "outputs": [],
   "source": [
    "%matplotlib inline\n",
    "import numpy as np\n",
    "import pandas as pd\n",
    "import matplotlib.pyplot as plt\n",
    "\n",
    "from sklearn.tree import DecisionTreeClassifier\n",
    "from sklearn.svm import SVC\n",
    "from sklearn.naive_bayes import BernoulliNB\n",
    "\n",
    "import seaborn as sns\n",
    "\n",
    "%load_ext autoreload \n",
    "%autoreload 2"
   ]
  },
  {
   "cell_type": "code",
   "execution_count": 3,
   "metadata": {
    "collapsed": true
   },
   "outputs": [],
   "source": [
    "#read in the data\n",
    "moviesData = pd.read_csv(\"./tmdb-5000-movie-dataset/tmdb_5000_movies_new.csv\")"
   ]
  },
  {
   "cell_type": "code",
   "execution_count": 4,
   "metadata": {
    "collapsed": true
   },
   "outputs": [],
   "source": [
    "labels = moviesData['vote_average']"
   ]
  },
  {
   "cell_type": "code",
   "execution_count": 5,
   "metadata": {},
   "outputs": [
    {
     "data": {
      "image/png": "[encoded data removed]",
      "text/plain": [
       "<matplotlib.figure.Figure at 0x11b584fd0>"
      ]
     },
     "metadata": {},
     "output_type": "display_data"
    }
   ],
   "source": [
    "%matplotlib inline\n",
    "import matplotlib.pyplot as plt\n",
    "font = {'fontname':'Arial', 'size':'14'}\n",
    "title_font = { 'weight' : 'bold','size':'16'}\n",
    "plt.hist(labels, bins=20)\n",
    "plt.title(\"Distribution of vote average\")\n",
    "plt.show()"
   ]
  },
  {
   "cell_type": "code",
   "execution_count": 8,
   "metadata": {},
   "outputs": [
    {
     "data": {
      "text/html": [
       "<div>\n",
       "<style>\n",
       "    .dataframe thead tr:only-child th {\n",
       "        text-align: right;\n",
       "    }\n",
       "\n",
       "    .dataframe thead th {\n",
       "        text-align: left;\n",
       "    }\n",
       "\n",
       "    .dataframe tbody tr th {\n",
       "        vertical-align: top;\n",
       "    }\n",
       "</style>\n",
       "<table border=\"1\" class=\"dataframe\">\n",
       "  <thead>\n",
       "    <tr style=\"text-align: right;\">\n",
       "      <th></th>\n",
       "      <th>budget</th>\n",
       "      <th>id</th>\n",
       "      <th>popularity</th>\n",
       "      <th>revenue</th>\n",
       "      <th>runtime</th>\n",
       "      <th>vote_average</th>\n",
       "      <th>vote_count</th>\n",
       "    </tr>\n",
       "  </thead>\n",
       "  <tbody>\n",
       "    <tr>\n",
       "      <th>0</th>\n",
       "      <td>237000000</td>\n",
       "      <td>19995</td>\n",
       "      <td>150.437577</td>\n",
       "      <td>2787965087</td>\n",
       "      <td>162.0</td>\n",
       "      <td>7.2</td>\n",
       "      <td>11800</td>\n",
       "    </tr>\n",
       "    <tr>\n",
       "      <th>1</th>\n",
       "      <td>300000000</td>\n",
       "      <td>285</td>\n",
       "      <td>139.082615</td>\n",
       "      <td>961000000</td>\n",
       "      <td>169.0</td>\n",
       "      <td>6.9</td>\n",
       "      <td>4500</td>\n",
       "    </tr>\n",
       "    <tr>\n",
       "      <th>2</th>\n",
       "      <td>245000000</td>\n",
       "      <td>206647</td>\n",
       "      <td>107.376788</td>\n",
       "      <td>880674609</td>\n",
       "      <td>148.0</td>\n",
       "      <td>6.3</td>\n",
       "      <td>4466</td>\n",
       "    </tr>\n",
       "    <tr>\n",
       "      <th>3</th>\n",
       "      <td>250000000</td>\n",
       "      <td>49026</td>\n",
       "      <td>112.312950</td>\n",
       "      <td>1084939099</td>\n",
       "      <td>165.0</td>\n",
       "      <td>7.6</td>\n",
       "      <td>9106</td>\n",
       "    </tr>\n",
       "    <tr>\n",
       "      <th>4</th>\n",
       "      <td>260000000</td>\n",
       "      <td>49529</td>\n",
       "      <td>43.926995</td>\n",
       "      <td>284139100</td>\n",
       "      <td>132.0</td>\n",
       "      <td>6.1</td>\n",
       "      <td>2124</td>\n",
       "    </tr>\n",
       "  </tbody>\n",
       "</table>\n",
       "</div>"
      ],
      "text/plain": [
       "      budget      id  popularity     revenue  runtime  vote_average  \\\n",
       "0  237000000   19995  150.437577  2787965087    162.0           7.2   \n",
       "1  300000000     285  139.082615   961000000    169.0           6.9   \n",
       "2  245000000  206647  107.376788   880674609    148.0           6.3   \n",
       "3  250000000   49026  112.312950  1084939099    165.0           7.6   \n",
       "4  260000000   49529   43.926995   284139100    132.0           6.1   \n",
       "\n",
       "   vote_count  \n",
       "0       11800  \n",
       "1        4500  \n",
       "2        4466  \n",
       "3        9106  \n",
       "4        2124  "
      ]
     },
     "execution_count": 8,
     "metadata": {},
     "output_type": "execute_result"
    }
   ],
   "source": [
    "#data filtering and cleansing\n",
    "# list for columns with strings\n",
    "stringsList = [] \n",
    "\n",
    "for colname, colvalue in moviesData.iteritems():\n",
    "    if type(colvalue[1]) == str:\n",
    "        stringsList.append(colname)\n",
    "        \n",
    "numsList = moviesData.columns.difference(stringsList)\n",
    "\n",
    "numsList\n",
    "\n",
    "#get columns that don't contain strings\n",
    "\n",
    "moviesDataNums = moviesData[numsList]\n",
    "\n",
    "moviesDataNums.head()\n",
    "moviesDataNums.drop('id', axis=1)"
   ]
  },
  {
   "cell_type": "code",
   "execution_count": 63,
   "metadata": {
    "collapsed": true
   },
   "outputs": [],
   "source": [
    "#remove NaN values\n",
    "moviesDataNums = moviesDataNums.fillna(value = 0, axis=1)"
   ]
  },
  {
   "cell_type": "code",
   "execution_count": 64,
   "metadata": {
    "collapsed": true
   },
   "outputs": [],
   "source": [
    "#standardize data using sklearn StandardScaler\n",
    "# Standardization of datasets is a common requirement for many machine learning estimators implemented in scikit-learn; they might behave badly if the individual features do not more or less look like standard normally distributed data: Gaussian with zero mean and unit variance.movieDataStdValues = StandardScaler().fit_transform(movieDataValues)\n"
   ]
  },
  {
   "cell_type": "code",
   "execution_count": 77,
   "metadata": {
    "collapsed": true
   },
   "outputs": [],
   "source": [
    "movieDataValues = moviesDataNums.values\n",
    "\n",
    "# from sklearn.preprocessing import StandardScaler\n",
    "# movieDataStdValues = StandardScaler().fit_transform(movieDataValues)"
   ]
  },
  {
   "cell_type": "code",
   "execution_count": 78,
   "metadata": {},
   "outputs": [
    {
     "data": {
      "text/plain": [
       "<matplotlib.axes._subplots.AxesSubplot at 0x1176e0fd0>"
      ]
     },
     "execution_count": 78,
     "metadata": {},
     "output_type": "execute_result"
    },
    {
     "data": {
      "image/png": "[encoded data removed]",
      "text/plain": [
       "<matplotlib.figure.Figure at 0x120be7f98>"
      ]
     },
     "metadata": {},
     "output_type": "display_data"
    }
   ],
   "source": [
    "#heatmap showing correlation of features\n",
    "\n",
    "f, ax = plt.subplots(figsize = (12,10))\n",
    "plt.title(\"Correlation of movie features\")\n",
    "sns.heatmap(moviesDataNums.astype(float).corr(), linewidths=0.25, vmax=1.0,\n",
    "           square = True, cmap=\"YlGnBu\", linecolor = \"black\", annot = True)"
   ]
  },
  {
   "cell_type": "code",
   "execution_count": 79,
   "metadata": {
    "collapsed": true
   },
   "outputs": [],
   "source": [
    "# Initialize a few classifiers for comparison\n",
    "clfs = [DecisionTreeClassifier(), SVC(), BernoulliNB()]"
   ]
  },
  {
   "cell_type": "code",
   "execution_count": 80,
   "metadata": {
    "collapsed": true
   },
   "outputs": [],
   "source": [
    "# Import evaluation functions\n",
    "from sklearn.model_selection import train_test_split, cross_val_score\n",
    "from sklearn.metrics import confusion_matrix, precision_recall_fscore_support"
   ]
  },
  {
   "cell_type": "code",
   "execution_count": 96,
   "metadata": {},
   "outputs": [
    {
     "name": "stdout",
     "output_type": "stream",
     "text": [
      "(4803, 7)\n",
      "(4803, 5)\n",
      "(4803,)\n"
     ]
    }
   ],
   "source": [
    "x = movieDataValues[:, [0,1,2,3,4,6]]\n",
    "y = movieDataValues[:, 5:6]\n",
    "print(movieDataValues.shape)\n",
    "print(x.shape)\n",
    "#print(y.shape)\n",
    "\n",
    "#change y's shape\n",
    "y = y.ravel()\n",
    "int_y = y.tolist()\n",
    "y1 = list(map(int,int_y))\n",
    "y1 = np.array(y1)\n",
    "print(y1.shape)"
   ]
  },
  {
   "cell_type": "code",
   "execution_count": 98,
   "metadata": {},
   "outputs": [
    {
     "name": "stdout",
     "output_type": "stream",
     "text": [
      "DecisionTreeClassifier 0.351716961498\n",
      "SVC 0.411030176899\n",
      "BernoulliNB 0.405827263267\n"
     ]
    }
   ],
   "source": [
    "X_train, X_test, y_train, y_test = train_test_split(x, y1, test_size=.2)\n",
    "for clf in clfs:\n",
    "    clf.fit(X_train, y_train)\n",
    "    print(type(clf).__name__, clf.score(X_test, y_test))"
   ]
  },
  {
   "cell_type": "code",
   "execution_count": 99,
   "metadata": {},
   "outputs": [
    {
     "name": "stdout",
     "output_type": "stream",
     "text": [
      "DecisionTreeClassifier\n",
      "[[ 12   0   0   0   0   0   0   0   0]\n",
      " [  0   0   1   0   2   2   1   1   0]\n",
      " [  0   0   0   5   9   4   5   2   0]\n",
      " [  0   1   2   8  30  21   7   1   0]\n",
      " [  0   2   6  28  89 111  28   3   0]\n",
      " [  0   1   4  23 112 175  79   1   0]\n",
      " [  0   0   3  16  26  54  64   5   0]\n",
      " [  0   0   1   1   1   0  11   2   0]\n",
      " [  0   0   0   0   0   1   0   0   0]]\n",
      "\n",
      "SVC\n",
      "[[  0   0   0   0   0  12   0   0   0]\n",
      " [  0   0   0   0   0   7   0   0   0]\n",
      " [  0   0   0   0   1  24   0   0   0]\n",
      " [  0   0   0   0   0  70   0   0   0]\n",
      " [  0   0   0   0   0 267   0   0   0]\n",
      " [  0   0   0   0   0 395   0   0   0]\n",
      " [  0   0   0   0   0 168   0   0   0]\n",
      " [  0   0   0   0   0  16   0   0   0]\n",
      " [  0   0   0   0   0   1   0   0   0]]\n",
      "\n",
      "BernoulliNB\n",
      "[[ 12   0   0   0   0   0   0   0   0]\n",
      " [  0   0   0   0   6   1   0   0   0]\n",
      " [  0   0   0   0  13  12   0   0   0]\n",
      " [  0   0   0   0  14  56   0   0   0]\n",
      " [  0   0   0   0  43 224   0   0   0]\n",
      " [  0   0   0   0  60 335   0   0   0]\n",
      " [  0   0   0   0  18 150   0   0   0]\n",
      " [  0   0   0   0   1  15   0   0   0]\n",
      " [  0   0   0   0   1   0   0   0   0]]\n",
      "\n"
     ]
    },
    {
     "data": {
      "image/png": "[encoded data removed]",
      "text/plain": [
       "<matplotlib.figure.Figure at 0x11bef86a0>"
      ]
     },
     "metadata": {},
     "output_type": "display_data"
    }
   ],
   "source": [
    "# print confusion matrices for each classifier\n",
    "plt.figure(figsize=(10,4))\n",
    "for i, clf in enumerate(clfs):\n",
    "    clf.fit(X_train, y_train)\n",
    "    y_pred = clf.predict(X_test)\n",
    "    \n",
    "    cm = confusion_matrix(y_test, y_pred)\n",
    "        \n",
    "    print (type(clf).__name__)\n",
    "    print (cm)\n",
    "    print()\n",
    "    \n",
    "    plt.subplot(1, len(clfs), i+1)\n",
    "    plt.imshow(cm, cmap=\"Blues\")"
   ]
  },
  {
   "cell_type": "code",
   "execution_count": null,
   "metadata": {
    "collapsed": true
   },
   "outputs": [],
   "source": []
  }
 ],
 "metadata": {
  "kernelspec": {
   "display_name": "Python 3",
   "language": "python",
   "name": "python3"
  },
  "language_info": {
   "codemirror_mode": {
    "name": "ipython",
    "version": 3
   },
   "file_extension": ".py",
   "mimetype": "text/x-python",
   "name": "python",
   "nbconvert_exporter": "python",
   "pygments_lexer": "ipython3",
   "version": "3.6.1"
  }
 },
 "nbformat": 4,
 "nbformat_minor": 2
}
